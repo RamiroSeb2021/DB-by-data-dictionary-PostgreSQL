{
 "cells": [
  {
   "cell_type": "markdown",
   "id": "49bb7c0c",
   "metadata": {},
   "source": [
    "# Librerías"
   ]
  },
  {
   "cell_type": "code",
   "execution_count": 6,
   "id": "f6598a26",
   "metadata": {},
   "outputs": [],
   "source": [
    "from collections import defaultdict\n",
    "import pandas as pd\n",
    "import psycopg2\n",
    "from psycopg2 import sql\n",
    "import re"
   ]
  },
  {
   "cell_type": "markdown",
   "id": "621bbe8f",
   "metadata": {},
   "source": [
    "# Archivo de conexion "
   ]
  },
  {
   "cell_type": "code",
   "execution_count": 13,
   "id": "1f883ce4",
   "metadata": {},
   "outputs": [],
   "source": [
    "%run Paswords.py"
   ]
  },
  {
   "cell_type": "markdown",
   "id": "b5b825f2",
   "metadata": {},
   "source": [
    "# Probar conexión"
   ]
  },
  {
   "cell_type": "code",
   "execution_count": null,
   "id": "899eb861",
   "metadata": {},
   "outputs": [
    {
     "name": "stdout",
     "output_type": "stream",
     "text": [
      "Conectado a PostgreSQL: PostgreSQL 17.6 on x86_64-windows, compiled by msvc-19.44.35213, 64-bit\n"
     ]
    }
   ],
   "source": [
    "\n",
    "\n",
    "try:\n",
    "    # Establecer conexión\n",
    "    conn = psycopg2.connect(\n",
    "        dbname= DB_,            # Nombre de tu base\n",
    "        user= username_,        # Usuario\n",
    "        password= password_,    # Password\n",
    "        host= host_,            \n",
    "        port= port_             # puerto    \n",
    "    )\n",
    "\n",
    "    # Crear cursor\n",
    "    cur = conn.cursor()\n",
    "\n",
    "    # Ejecutar una consulta de prueba\n",
    "    cur.execute(\"SELECT version();\")\n",
    "    version = cur.fetchone()\n",
    "    print(\"Conectado a PostgreSQL:\", version[0])\n",
    "\n",
    "    # Cerrar cursor y conexión\n",
    "    cur.close()\n",
    "    conn.close()\n",
    "\n",
    "except Exception as e:\n",
    "    print(\"Error al conectar:\", e)\n"
   ]
  },
  {
   "cell_type": "code",
   "execution_count": 8,
   "id": "62e06678",
   "metadata": {},
   "outputs": [],
   "source": [
    "df = pd.read_excel(\"Diccionario de Datos SINCO.xlsx\")"
   ]
  },
  {
   "cell_type": "code",
   "execution_count": 9,
   "id": "7f6ebae6",
   "metadata": {},
   "outputs": [
    {
     "data": {
      "text/plain": [
       "Index(['Orden', 'Esquema', 'Nombre Tabla', 'Nombre Columna', 'Tipo De Dato',\n",
       "       'Descripcion'],\n",
       "      dtype='object')"
      ]
     },
     "execution_count": 9,
     "metadata": {},
     "output_type": "execute_result"
    }
   ],
   "source": [
    "df.columns"
   ]
  },
  {
   "cell_type": "code",
   "execution_count": 10,
   "id": "8690ee7e",
   "metadata": {},
   "outputs": [
    {
     "data": {
      "text/plain": [
       "array(['bigint', 'smallint', 'varchar', 'int', 'char', 'date', 'tinyint',\n",
       "       'nvarchar', 'money', 'float', 'numeric', 'smallmoney', 'decimal'],\n",
       "      dtype=object)"
      ]
     },
     "execution_count": 10,
     "metadata": {},
     "output_type": "execute_result"
    }
   ],
   "source": [
    "df['Tipo De Dato'].unique()"
   ]
  },
  {
   "cell_type": "code",
   "execution_count": null,
   "id": "631c7af1",
   "metadata": {},
   "outputs": [],
   "source": [
    "# Mapa base \n",
    "PG_TYPE_MAP = {\n",
    "    \"bigint\":     \"BIGINT\",\n",
    "    \"smallint\":   \"SMALLINT\",\n",
    "    \"int\":        \"INTEGER\",\n",
    "    \"tinyint\":    \"SMALLINT\",         \n",
    "    \"varchar\":    \"VARCHAR\",          # si trae (n) lo respeta; si no, usa default\n",
    "    \"nvarchar\":   \"VARCHAR\",          # PG es UTF-8 por defecto\n",
    "    \"char\":       \"CHAR\",             # si trae (n) lo respeta; si no, usa default\n",
    "    \"text\":       \"TEXT\",\n",
    "    \"date\":       \"DATE\",\n",
    "    \"float\":      \"DOUBLE PRECISION\", # en SQL Server float ~ double precision\n",
    "    \"numeric\":    \"NUMERIC\",          # si trae (p,s) lo respeta; si no, default\n",
    "    \"decimal\":    \"NUMERIC\",          # sinónimo en PG\n",
    "    \"money\":      \"NUMERIC(19,4)\",    # recomendado en vez de PG money\n",
    "    \"smallmoney\": \"NUMERIC(10,4)\",\n",
    "    # extras por si aparecen\n",
    "    \"boolean\":    \"BOOLEAN\",\n",
    "    \"bool\":       \"BOOLEAN\",\n",
    "    \"bytea\":      \"BYTEA\",\n",
    "    \"uuid\":       \"UUID\",\n",
    "}\n",
    "DEFAULTS = {\n",
    "    \"varchar\": 255,   # VARCHAR sin longitud → VARCHAR(255)\n",
    "    \"char\": 1,        # CHAR sin longitud → CHAR(1)\n",
    "    \"numeric\": (18, 2)  # NUMERIC sin (p,s) → NUMERIC(18,2)\n",
    "}\n",
    "_PAREN_RE = re.compile(r\"^([a-zA-Z_]+)\\s*\\(\\s*([0-9]+)(?:\\s*,\\s*([0-9]+))?\\s*\\)\\s*$\")"
   ]
  },
  {
   "cell_type": "markdown",
   "id": "addd083c",
   "metadata": {},
   "source": [
    "# Creación de plantilla de BD"
   ]
  },
  {
   "cell_type": "code",
   "execution_count": null,
   "id": "558b4e5b",
   "metadata": {},
   "outputs": [
    {
     "name": "stdout",
     "output_type": "stream",
     "text": [
      "✅ Conexión OK a PostgreSQL DB=ARPRO_Postgre como arpro\n",
      "📄 Filas leídas: 531\n",
      "🏁 Listo. Tablas procesadas/aseguradas: 50.\n",
      "   Ejemplo para listar tablas del esquema:\n",
      "   SELECT tablename FROM pg_tables WHERE schemaname = 'public';\n"
     ]
    }
   ],
   "source": [
    "# ========= CONFIGURA AQUÍ =========\n",
    "EXCEL_PATH   = \"Diccionario de Datos SINCO.xlsx\"  # Ruta archivo Excel\n",
    "SHEET_NAME   = 0                                  # índice o nombre de hoja\n",
    "\n",
    "HOST         = host_\n",
    "PORT         = port_n\n",
    "DBNAME       = DB_          # <-- tu base de datos en PG\n",
    "USER         = username_\n",
    "PWD          = password_\n",
    "\n",
    "INFERIR_PK   = True              # Detecta PK por nombre (ID o <TABLA>ID)\n",
    "DEFAULT_SCHEMA = \"public\"        # Si no viene esquema en el Excel\n",
    "# ==================================\n",
    "\n",
    "\n",
    "def map_tipo_postgres(raw: str) -> str:\n",
    "    if raw is None:\n",
    "        return \"\"\n",
    "    t = str(raw).strip().lower()\n",
    "    if not t:\n",
    "        return \"\"\n",
    "    m = _PAREN_RE.match(t)\n",
    "    if m:\n",
    "        base, p1, p2 = m.group(1).lower(), m.group(2), m.group(3)\n",
    "        base = PG_TYPE_MAP.get(base, base)\n",
    "        if base.upper() in (\"VARCHAR\", \"CHAR\"):\n",
    "            return f\"{base.upper()}({int(p1)})\"\n",
    "        if base.upper() in (\"NUMERIC\", \"DECIMAL\"):\n",
    "            if p2 is not None:\n",
    "                return f\"{base.upper()}({int(p1)},{int(p2)})\"\n",
    "            else:\n",
    "                return f\"{base.upper()}({int(p1)})\"\n",
    "        return f\"{base.upper()}({p1}{','+p2 if p2 else ''})\"\n",
    "    base = PG_TYPE_MAP.get(t, None)\n",
    "    if base:\n",
    "        if base.upper() == \"VARCHAR\":\n",
    "            return f\"VARCHAR({DEFAULTS['varchar']})\"\n",
    "        if base.upper() == \"CHAR\":\n",
    "            return f\"CHAR({DEFAULTS['char']})\"\n",
    "        if base.upper() == \"NUMERIC\":\n",
    "            p, s = DEFAULTS[\"numeric\"]\n",
    "            return f\"NUMERIC({p},{s})\"\n",
    "        return base.upper()\n",
    "    return f\"VARCHAR({DEFAULTS['varchar']})\"\n",
    "\n",
    "def qident(name: str) -> str:\n",
    "    s = str(name).replace('\"', '\"\"').strip()\n",
    "    return f'\"{s}\"'\n",
    "\n",
    "def pick_col(df: pd.DataFrame, name_like: str) -> str:\n",
    "    target = name_like.lower()\n",
    "    for c in df.columns:\n",
    "        lc = c.lower().strip()\n",
    "        if lc == target or target in lc:\n",
    "            return c\n",
    "    raise ValueError(f\"No se encontró la columna requerida: {name_like}\")\n",
    "\n",
    "def main():\n",
    "    # Conexión\n",
    "    conn = psycopg2.connect(dbname=DBNAME, user=USER, password=PWD, host=HOST, port=PORT)\n",
    "    conn.autocommit = False\n",
    "    cur = conn.cursor()\n",
    "    print(f\"✅ Conexión OK a PostgreSQL\")\n",
    "\n",
    "    # Leer Excel\n",
    "    df = pd.read_excel(EXCEL_PATH, sheet_name=SHEET_NAME, dtype=str).fillna(\"\")\n",
    "    print(f\"📄 Filas leídas: {len(df)}\")\n",
    "\n",
    "    COL_ESQUEMA = pick_col(df, \"Esquema\")\n",
    "    COL_TABLA   = pick_col(df, \"Nombre Tabla\")\n",
    "    COL_COLUMNA = pick_col(df, \"Nombre Columna\")\n",
    "    COL_TIPO    = pick_col(df, \"Tipo De Dato\")\n",
    "\n",
    "    norm = lambda x: str(x).strip()\n",
    "    norm_schema = lambda x: (norm(x) if norm(x) else DEFAULT_SCHEMA)\n",
    "\n",
    "    df[\"_schema\"] = df[COL_ESQUEMA].apply(norm_schema).str.lower()\n",
    "    df[\"_table\"]  = df[COL_TABLA].apply(norm).str.lower()\n",
    "    df[\"_col\"]    = df[COL_COLUMNA].apply(norm).str.lower()\n",
    "    df[\"_type\"]   = df[COL_TIPO].apply(map_tipo_postgres)\n",
    "\n",
    "    bad = df[(df[\"_table\"]==\"\") | (df[\"_col\"]==\"\") | (df[\"_type\"]==\"\")]\n",
    "    if not bad.empty:\n",
    "        print(\"⚠️ Filas con tabla/columna/tipo vacío (se omiten):\")\n",
    "        print(bad[[COL_ESQUEMA, COL_TABLA, COL_COLUMNA, COL_TIPO]].head(10))\n",
    "        df = df[(df[\"_table\"]!=\"\") & (df[\"_col\"]!=\"\") & (df[\"_type\"]!=\"\")]\n",
    "\n",
    "    group = defaultdict(list)\n",
    "    for _, r in df.iterrows():\n",
    "        group[(r[\"_schema\"], r[\"_table\"])].append(r)\n",
    "\n",
    "    tablas_proc = 0\n",
    "    for (sch, tbl), rows in group.items():\n",
    "        if not tbl:\n",
    "            continue\n",
    "\n",
    "        # Crear esquema si no existe\n",
    "        cur.execute(sql.SQL(\"CREATE SCHEMA IF NOT EXISTS {}\").format(sql.Identifier(sch)))\n",
    "\n",
    "        cols_sql = []\n",
    "        pk_cols = []\n",
    "        candidatos_pk = {f\"{tbl}id\", \"id\"} if INFERIR_PK else set()\n",
    "\n",
    "        for r in rows:\n",
    "            col = r[\"_col\"]\n",
    "            t   = r[\"_type\"].upper()\n",
    "            cols_sql.append(f'{qident(col)} {t}')\n",
    "            if col in candidatos_pk:\n",
    "                pk_cols.append(col)\n",
    "\n",
    "        pk_clause = \"\"\n",
    "        if pk_cols:\n",
    "            pk_list = \", \".join(qident(c) for c in pk_cols)\n",
    "            pk_clause = f\", CONSTRAINT {qident('pk_'+tbl)} PRIMARY KEY ({pk_list})\"\n",
    "\n",
    "        create_stmt = (\n",
    "            f'CREATE TABLE IF NOT EXISTS {qident(sch)}.{qident(tbl)} '\n",
    "            f'({\", \".join(cols_sql)}{pk_clause});'\n",
    "        )\n",
    "\n",
    "        try:\n",
    "            cur.execute(create_stmt)\n",
    "            tablas_proc += 1\n",
    "        except Exception as e:\n",
    "            print(\"❌ Error creando tabla:\", f\"{sch}.{tbl}\")\n",
    "            print(\"DDL que falló:\\n\", create_stmt)\n",
    "            conn.rollback()\n",
    "            raise e\n",
    "\n",
    "    conn.commit()\n",
    "    cur.close(); conn.close()\n",
    "    print(f\"🏁 Listo. Tablas procesadas/aseguradas: {tablas_proc}.\")\n",
    "    print(f\"   Ejemplo para listar tablas del esquema:\")\n",
    "    print(f\"   SELECT tablename FROM pg_tables WHERE schemaname = '{DEFAULT_SCHEMA}';\")\n",
    "\n",
    "if __name__ == \"__main__\":\n",
    "    main()"
   ]
  }
 ],
 "metadata": {
  "kernelspec": {
   "display_name": "selenium_venv (3.12.10)",
   "language": "python",
   "name": "python3"
  },
  "language_info": {
   "codemirror_mode": {
    "name": "ipython",
    "version": 3
   },
   "file_extension": ".py",
   "mimetype": "text/x-python",
   "name": "python",
   "nbconvert_exporter": "python",
   "pygments_lexer": "ipython3",
   "version": "3.12.10"
  }
 },
 "nbformat": 4,
 "nbformat_minor": 5
}
